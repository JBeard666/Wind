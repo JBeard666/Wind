{
 "cells": [
  {
   "cell_type": "code",
   "execution_count": 28,
   "metadata": {},
   "outputs": [
    {
     "name": "stdout",
     "output_type": "stream",
     "text": [
      "/home/windmaster/Documents/DrStrange/Eólica y Climatología Urbana/Datos 2017/2017-01\n"
     ]
    }
   ],
   "source": [
    "cd /home/windmaster/Documents/DrStrange/Eólica y Climatología Urbana/Datos 2017/2017-01"
   ]
  },
  {
   "cell_type": "code",
   "execution_count": 29,
   "metadata": {},
   "outputs": [],
   "source": [
    "import pandas as pd\n",
    "import numpy as np\n",
    "import math\n",
    "from scipy import stats\n",
    "import matplotlib.pyplot as plp\n",
    "import os"
   ]
  },
  {
   "cell_type": "code",
   "execution_count": null,
   "metadata": {},
   "outputs": [],
   "source": [
    "df0 = pd.read_csv('output1.csv', dtype = 'U')"
   ]
  },
  {
   "cell_type": "code",
   "execution_count": null,
   "metadata": {},
   "outputs": [],
   "source": [
    "print(df0)"
   ]
  },
  {
   "cell_type": "code",
   "execution_count": null,
   "metadata": {},
   "outputs": [],
   "source": [
    "df0.dtypes"
   ]
  },
  {
   "cell_type": "code",
   "execution_count": null,
   "metadata": {},
   "outputs": [],
   "source": [
    "#df0.isnull().values.any()\n",
    "df0.isnull().sum()\n",
    "#df0[['Smp','Smp.1','Smp.2']] = df0[['Smp','Smp.1','Smp.2']].astype(float)\n",
    "#df0.rename(columns ={'Smp':'Ux','Smp.1':'Uy', 'Smp.2':'Uz'}, inplace = True)"
   ]
  },
  {
   "cell_type": "code",
   "execution_count": 7,
   "metadata": {},
   "outputs": [
    {
     "name": "stdout",
     "output_type": "stream",
     "text": [
      "         Unnamed: 0 Unnamed: 1         Smp     Smp.1     Smp.2     Smp.3  \\\n",
      "0           00:00.1    7544514  -0.9612501   0.32525    0.0505  13.45016   \n",
      "1           00:00.2    7544515    -1.03825      0.13  -0.01025  13.51434   \n",
      "2           00:00.3    7544516    -1.01975   0.24475  -0.06675  13.48059   \n",
      "3           00:00.4    7544517    -1.05825   0.20675  -0.03675  13.49408   \n",
      "4           00:00.5    7544518      -1.037   0.04225   0.06825  13.43835   \n",
      "...             ...        ...         ...       ...       ...       ...   \n",
      "27268727    59:59.5   35192243    -0.51025  -0.88275  -0.03175  17.30896   \n",
      "27268728    59:59.6   35192244    -0.54175    -0.878  -0.00475  17.30896   \n",
      "27268729    59:59.7   35192245      -0.527   -0.8735   0.00975  17.31067   \n",
      "27268730    59:59.8   35192246    -0.51725    -0.904     0.005  17.30389   \n",
      "27268731    59:59.9   35192247    -0.49525    -0.923  -0.01775  17.32428   \n",
      "\n",
      "         Smp.4     Smp.5     Smp.6     Smp.7      Smp.8  \n",
      "0           15  466.0188  6.144226    12.697   1.255969  \n",
      "1           16  466.2671  6.144759    12.697   1.255969  \n",
      "2           17  465.8533  6.143871    12.697   1.255969  \n",
      "3           18  466.1016  6.144403    12.697   1.255969  \n",
      "4           19  466.0188  6.144226    12.697   1.255969  \n",
      "...        ...       ...       ...       ...        ...  \n",
      "27268727    10  457.0547  6.124803  16.95602  0.6388254  \n",
      "27268728    11  456.7237  6.124079  16.95602  0.6388254  \n",
      "27268729    12  457.6339   6.12607  16.95602  0.6388254  \n",
      "27268730    13  456.7237  6.124079  16.95602  0.6388254  \n",
      "27268731    14  457.3029  6.125346  16.95602  0.6388254  \n",
      "\n",
      "[24541834 rows x 11 columns]\n"
     ]
    }
   ],
   "source": [
    "df1=df0.dropna()\n",
    "print(df1)"
   ]
  },
  {
   "cell_type": "code",
   "execution_count": 8,
   "metadata": {},
   "outputs": [
    {
     "data": {
      "text/plain": [
       "Unnamed: 0    0\n",
       "Unnamed: 1    0\n",
       "Smp           0\n",
       "Smp.1         0\n",
       "Smp.2         0\n",
       "Smp.3         0\n",
       "Smp.4         0\n",
       "Smp.5         0\n",
       "Smp.6         0\n",
       "Smp.7         0\n",
       "Smp.8         0\n",
       "dtype: int64"
      ]
     },
     "execution_count": 8,
     "metadata": {},
     "output_type": "execute_result"
    }
   ],
   "source": [
    "df1.isnull().sum()\n",
    "#df0[['Ux','Uy','Uz']] = df0[['Ux','Uy','Uz']].astype(float)\n",
    "#df0[['Smp', 'Smp.1', 'Smp.2']] = df0[['Smp','Smp.1', 'Smp.2']].astype(float)\n",
    "#ignore_index=True"
   ]
  },
  {
   "cell_type": "code",
   "execution_count": 9,
   "metadata": {},
   "outputs": [
    {
     "name": "stderr",
     "output_type": "stream",
     "text": [
      "/home/windmaster/anaconda3/lib/python3.7/site-packages/pandas/core/frame.py:3494: SettingWithCopyWarning: \n",
      "A value is trying to be set on a copy of a slice from a DataFrame.\n",
      "Try using .loc[row_indexer,col_indexer] = value instead\n",
      "\n",
      "See the caveats in the documentation: http://pandas.pydata.org/pandas-docs/stable/user_guide/indexing.html#returning-a-view-versus-a-copy\n",
      "  self[k1] = value[k2]\n"
     ]
    },
    {
     "data": {
      "text/plain": [
       "Unnamed: 0     object\n",
       "Unnamed: 1     object\n",
       "Smp           float64\n",
       "Smp.1         float64\n",
       "Smp.2         float64\n",
       "Smp.3          object\n",
       "Smp.4          object\n",
       "Smp.5          object\n",
       "Smp.6          object\n",
       "Smp.7          object\n",
       "Smp.8          object\n",
       "dtype: object"
      ]
     },
     "execution_count": 9,
     "metadata": {},
     "output_type": "execute_result"
    }
   ],
   "source": [
    "df1[['Smp','Smp.1','Smp.2']] = df1[['Smp','Smp.1','Smp.2']].astype(float)\n",
    "df1.dtypes"
   ]
  },
  {
   "cell_type": "code",
   "execution_count": 10,
   "metadata": {},
   "outputs": [
    {
     "name": "stderr",
     "output_type": "stream",
     "text": [
      "/home/windmaster/anaconda3/lib/python3.7/site-packages/pandas/core/frame.py:4223: SettingWithCopyWarning: \n",
      "A value is trying to be set on a copy of a slice from a DataFrame\n",
      "\n",
      "See the caveats in the documentation: http://pandas.pydata.org/pandas-docs/stable/user_guide/indexing.html#returning-a-view-versus-a-copy\n",
      "  return super().rename(**kwargs)\n"
     ]
    }
   ],
   "source": [
    "df1.rename(columns ={'Smp':'Ux','Smp.1':'Uy', 'Smp.2':'Uz'}, inplace = True)"
   ]
  },
  {
   "cell_type": "code",
   "execution_count": 27,
   "metadata": {},
   "outputs": [
    {
     "ename": "MemoryError",
     "evalue": "Unable to allocate array with shape (24541834,) and data type float64",
     "output_type": "error",
     "traceback": [
      "\u001b[0;31m---------------------------------------------------------------------------\u001b[0m",
      "\u001b[0;31mMemoryError\u001b[0m                               Traceback (most recent call last)",
      "\u001b[0;32m<ipython-input-27-5a74eed7a0f4>\u001b[0m in \u001b[0;36m<module>\u001b[0;34m\u001b[0m\n\u001b[0;32m----> 1\u001b[0;31m \u001b[0mUx\u001b[0m \u001b[0;34m=\u001b[0m \u001b[0mdf1\u001b[0m\u001b[0;34m.\u001b[0m\u001b[0mUx\u001b[0m\u001b[0;34m.\u001b[0m\u001b[0mabs\u001b[0m\u001b[0;34m(\u001b[0m\u001b[0;34m)\u001b[0m\u001b[0;34m\u001b[0m\u001b[0;34m\u001b[0m\u001b[0m\n\u001b[0m\u001b[1;32m      2\u001b[0m \u001b[0mUy\u001b[0m \u001b[0;34m=\u001b[0m \u001b[0mdf1\u001b[0m\u001b[0;34m.\u001b[0m\u001b[0mUy\u001b[0m\u001b[0;34m.\u001b[0m\u001b[0mabs\u001b[0m\u001b[0;34m(\u001b[0m\u001b[0;34m)\u001b[0m\u001b[0;34m\u001b[0m\u001b[0;34m\u001b[0m\u001b[0m\n\u001b[1;32m      3\u001b[0m \u001b[0mUz\u001b[0m \u001b[0;34m=\u001b[0m \u001b[0mdf1\u001b[0m\u001b[0;34m.\u001b[0m\u001b[0mUz\u001b[0m\u001b[0;34m.\u001b[0m\u001b[0mabs\u001b[0m\u001b[0;34m(\u001b[0m\u001b[0;34m)\u001b[0m\u001b[0;34m\u001b[0m\u001b[0;34m\u001b[0m\u001b[0m\n\u001b[1;32m      4\u001b[0m \u001b[0;31m#v1 = np.sqrt(Ux**2 + Uy**2 + Uz**2) #magnitud\u001b[0m\u001b[0;34m\u001b[0m\u001b[0;34m\u001b[0m\u001b[0;34m\u001b[0m\u001b[0m\n\u001b[1;32m      5\u001b[0m \u001b[0;31m#print(v1)\u001b[0m\u001b[0;34m\u001b[0m\u001b[0;34m\u001b[0m\u001b[0;34m\u001b[0m\u001b[0m\n",
      "\u001b[0;32m~/anaconda3/lib/python3.7/site-packages/pandas/core/generic.py\u001b[0m in \u001b[0;36mabs\u001b[0;34m(self)\u001b[0m\n\u001b[1;32m   9940\u001b[0m         \u001b[0;36m3\u001b[0m    \u001b[0;36m7\u001b[0m   \u001b[0;36m40\u001b[0m  \u001b[0;34m-\u001b[0m\u001b[0;36m50\u001b[0m\u001b[0;34m\u001b[0m\u001b[0;34m\u001b[0m\u001b[0m\n\u001b[1;32m   9941\u001b[0m         \"\"\"\n\u001b[0;32m-> 9942\u001b[0;31m         \u001b[0;32mreturn\u001b[0m \u001b[0mnp\u001b[0m\u001b[0;34m.\u001b[0m\u001b[0mabs\u001b[0m\u001b[0;34m(\u001b[0m\u001b[0mself\u001b[0m\u001b[0;34m)\u001b[0m\u001b[0;34m\u001b[0m\u001b[0;34m\u001b[0m\u001b[0m\n\u001b[0m\u001b[1;32m   9943\u001b[0m \u001b[0;34m\u001b[0m\u001b[0m\n\u001b[1;32m   9944\u001b[0m     \u001b[0;32mdef\u001b[0m \u001b[0mdescribe\u001b[0m\u001b[0;34m(\u001b[0m\u001b[0mself\u001b[0m\u001b[0;34m,\u001b[0m \u001b[0mpercentiles\u001b[0m\u001b[0;34m=\u001b[0m\u001b[0;32mNone\u001b[0m\u001b[0;34m,\u001b[0m \u001b[0minclude\u001b[0m\u001b[0;34m=\u001b[0m\u001b[0;32mNone\u001b[0m\u001b[0;34m,\u001b[0m \u001b[0mexclude\u001b[0m\u001b[0;34m=\u001b[0m\u001b[0;32mNone\u001b[0m\u001b[0;34m)\u001b[0m\u001b[0;34m:\u001b[0m\u001b[0;34m\u001b[0m\u001b[0;34m\u001b[0m\u001b[0m\n",
      "\u001b[0;32m~/anaconda3/lib/python3.7/site-packages/pandas/core/series.py\u001b[0m in \u001b[0;36m__array_ufunc__\u001b[0;34m(self, ufunc, method, *inputs, **kwargs)\u001b[0m\n\u001b[1;32m    851\u001b[0m \u001b[0;34m\u001b[0m\u001b[0m\n\u001b[1;32m    852\u001b[0m         \u001b[0minputs\u001b[0m \u001b[0;34m=\u001b[0m \u001b[0mtuple\u001b[0m\u001b[0;34m(\u001b[0m\u001b[0mextract_array\u001b[0m\u001b[0;34m(\u001b[0m\u001b[0mx\u001b[0m\u001b[0;34m,\u001b[0m \u001b[0mextract_numpy\u001b[0m\u001b[0;34m=\u001b[0m\u001b[0;32mTrue\u001b[0m\u001b[0;34m)\u001b[0m \u001b[0;32mfor\u001b[0m \u001b[0mx\u001b[0m \u001b[0;32min\u001b[0m \u001b[0minputs\u001b[0m\u001b[0;34m)\u001b[0m\u001b[0;34m\u001b[0m\u001b[0;34m\u001b[0m\u001b[0m\n\u001b[0;32m--> 853\u001b[0;31m         \u001b[0mresult\u001b[0m \u001b[0;34m=\u001b[0m \u001b[0mgetattr\u001b[0m\u001b[0;34m(\u001b[0m\u001b[0mufunc\u001b[0m\u001b[0;34m,\u001b[0m \u001b[0mmethod\u001b[0m\u001b[0;34m)\u001b[0m\u001b[0;34m(\u001b[0m\u001b[0;34m*\u001b[0m\u001b[0minputs\u001b[0m\u001b[0;34m,\u001b[0m \u001b[0;34m**\u001b[0m\u001b[0mkwargs\u001b[0m\u001b[0;34m)\u001b[0m\u001b[0;34m\u001b[0m\u001b[0;34m\u001b[0m\u001b[0m\n\u001b[0m\u001b[1;32m    854\u001b[0m         \u001b[0;32mif\u001b[0m \u001b[0mlen\u001b[0m\u001b[0;34m(\u001b[0m\u001b[0mset\u001b[0m\u001b[0;34m(\u001b[0m\u001b[0mnames\u001b[0m\u001b[0;34m)\u001b[0m\u001b[0;34m)\u001b[0m \u001b[0;34m==\u001b[0m \u001b[0;36m1\u001b[0m\u001b[0;34m:\u001b[0m\u001b[0;34m\u001b[0m\u001b[0;34m\u001b[0m\u001b[0m\n\u001b[1;32m    855\u001b[0m             \u001b[0;31m# we require names to be hashable, right?\u001b[0m\u001b[0;34m\u001b[0m\u001b[0;34m\u001b[0m\u001b[0;34m\u001b[0m\u001b[0m\n",
      "\u001b[0;31mMemoryError\u001b[0m: Unable to allocate array with shape (24541834,) and data type float64"
     ]
    }
   ],
   "source": [
    "Ux = df1.Ux.abs()\n",
    "Uy = df1.Uy.abs()\n",
    "Uz = df1.Uz.abs()\n",
    "v1 = np.sqrt(Ux**2 + Uy**2 + Uz**2) #magnitud\n",
    "#print(v1)\n",
    "Uy.max()\n",
    "low_memory=False"
   ]
  },
  {
   "cell_type": "code",
   "execution_count": 24,
   "metadata": {},
   "outputs": [
    {
     "data": {
      "text/plain": [
       "34.026"
      ]
     },
     "execution_count": 24,
     "metadata": {},
     "output_type": "execute_result"
    }
   ],
   "source": [
    "#Uy.plot(figsize=(10,5))\n",
    "Ux.max()"
   ]
  },
  {
   "cell_type": "code",
   "execution_count": null,
   "metadata": {},
   "outputs": [],
   "source": [
    "v1.plot(figsize=(10,5))\n",
    "#vm = np.mean(v1) #media\n",
    "#print(vm)\n",
    "v1.max()"
   ]
  },
  {
   "cell_type": "code",
   "execution_count": 18,
   "metadata": {},
   "outputs": [
    {
     "name": "stdout",
     "output_type": "stream",
     "text": [
      "1.6425959702309447\n"
     ]
    }
   ],
   "source": [
    "vs= np.std(v1)\n",
    "print(vs)"
   ]
  }
 ],
 "metadata": {
  "kernelspec": {
   "display_name": "Python 3",
   "language": "python",
   "name": "python3"
  },
  "language_info": {
   "codemirror_mode": {
    "name": "ipython",
    "version": 3
   },
   "file_extension": ".py",
   "mimetype": "text/x-python",
   "name": "python",
   "nbconvert_exporter": "python",
   "pygments_lexer": "ipython3",
   "version": "3.7.4"
  }
 },
 "nbformat": 4,
 "nbformat_minor": 2
}
